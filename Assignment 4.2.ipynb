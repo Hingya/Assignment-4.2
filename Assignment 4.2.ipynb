{
 "cells": [
  {
   "cell_type": "markdown",
   "id": "dd4b253f",
   "metadata": {},
   "source": [
    "Write a Python program to square the elements of a list using map() function."
   ]
  },
  {
   "cell_type": "code",
   "execution_count": 2,
   "id": "48c36d11",
   "metadata": {},
   "outputs": [],
   "source": [
    "def square_(num):\n",
    "    return num ** 2"
   ]
  },
  {
   "cell_type": "code",
   "execution_count": 4,
   "id": "ab10996c",
   "metadata": {},
   "outputs": [],
   "source": [
    "l = [4, 5, 2, 9]"
   ]
  },
  {
   "cell_type": "code",
   "execution_count": 5,
   "id": "f6af3f86",
   "metadata": {},
   "outputs": [
    {
     "data": {
      "text/plain": [
       "[16, 25, 4, 81]"
      ]
     },
     "execution_count": 5,
     "metadata": {},
     "output_type": "execute_result"
    }
   ],
   "source": [
    "list(map(square_,l))"
   ]
  },
  {
   "cell_type": "code",
   "execution_count": null,
   "id": "a9038f2b",
   "metadata": {},
   "outputs": [],
   "source": []
  }
 ],
 "metadata": {
  "kernelspec": {
   "display_name": "Python 3 (ipykernel)",
   "language": "python",
   "name": "python3"
  },
  "language_info": {
   "codemirror_mode": {
    "name": "ipython",
    "version": 3
   },
   "file_extension": ".py",
   "mimetype": "text/x-python",
   "name": "python",
   "nbconvert_exporter": "python",
   "pygments_lexer": "ipython3",
   "version": "3.9.7"
  }
 },
 "nbformat": 4,
 "nbformat_minor": 5
}
